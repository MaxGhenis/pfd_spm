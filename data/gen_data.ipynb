{
 "cells": [
  {
   "cell_type": "markdown",
   "metadata": {},
   "source": [
    "# Prepare data for PFD SPM analysis\n",
    "\n",
    "This does the following:\n",
    "* Loads CPSP's master historical SPM file, limiting to relevant fields (see [documentation](https://static1.squarespace.com/static/5743308460b5e922a25a6dc7/t/5c8179014785d342b6e63abe/1551988993650/SPM+public+use+data+documentation_02142019.pdf)).\n",
    "* Merges with IPUMS ASEC data to get state.\n",
    "* Outputs data with necessary fields.\n",
    "\n",
    "## Setup"
   ]
  },
  {
   "cell_type": "code",
   "execution_count": 1,
   "metadata": {},
   "outputs": [],
   "source": [
    "import pandas as pd\n",
    "import numpy as np"
   ]
  },
  {
   "cell_type": "markdown",
   "metadata": {},
   "source": [
    "## Load data"
   ]
  },
  {
   "cell_type": "code",
   "execution_count": 2,
   "metadata": {},
   "outputs": [
    {
     "name": "stderr",
     "output_type": "stream",
     "text": [
      "/home/mghenis/anaconda3/lib/python3.7/site-packages/IPython/core/interactiveshell.py:3063: DtypeWarning: Columns (6,41) have mixed types.Specify dtype option on import or set low_memory=False.\n",
      "  interactivity=interactivity, compiler=compiler, result=result)\n"
     ]
    }
   ],
   "source": [
    "spm_raw = pd.read_csv('/home/mghenis/datarepo/pub_spm_master.csv.gz',\n",
    "                      usecols=['year', 'serial', 'lineno', 'pernum',\n",
    "                               'sex', 'age', 'a_sex', 'a_age', \n",
    "                               'SPMu_Poor_Metadj_anch_cen', 'marsupwt'])"
   ]
  },
  {
   "cell_type": "code",
   "execution_count": 3,
   "metadata": {},
   "outputs": [],
   "source": [
    "ipums_raw = pd.read_csv('asec_hh_state.csv.gz')"
   ]
  },
  {
   "cell_type": "markdown",
   "metadata": {},
   "source": [
    "## Preprocess\n",
    "\n",
    "### SPM"
   ]
  },
  {
   "cell_type": "markdown",
   "metadata": {},
   "source": [
    "Recode sex and age. Use `female` for clarity."
   ]
  },
  {
   "cell_type": "code",
   "execution_count": 4,
   "metadata": {},
   "outputs": [],
   "source": [
    "spm = spm_raw.copy(deep=True)"
   ]
  },
  {
   "cell_type": "code",
   "execution_count": 5,
   "metadata": {},
   "outputs": [],
   "source": [
    "spm['female'] = (spm.sex == 'Female') | (spm.a_sex == 'Female')\n",
    "spm.age = np.where(spm.age.isnull(), spm.a_age, spm.age)\n",
    "spm.drop(['a_age', 'a_sex', 'sex'], axis=1, inplace=True)"
   ]
  },
  {
   "cell_type": "markdown",
   "metadata": {},
   "source": [
    "Weight is multiplied by 100 prior to 1991."
   ]
  },
  {
   "cell_type": "code",
   "execution_count": 6,
   "metadata": {},
   "outputs": [],
   "source": [
    "spm.marsupwt = np.where(spm.year < 1991, spm.marsupwt / 100, spm.marsupwt)"
   ]
  },
  {
   "cell_type": "markdown",
   "metadata": {},
   "source": [
    "### IPUMS"
   ]
  },
  {
   "cell_type": "code",
   "execution_count": 7,
   "metadata": {},
   "outputs": [],
   "source": [
    "ipums = ipums_raw.copy(deep=True)"
   ]
  },
  {
   "cell_type": "code",
   "execution_count": 8,
   "metadata": {},
   "outputs": [],
   "source": [
    "ipums.columns = ipums.columns.map(str.lower)"
   ]
  },
  {
   "cell_type": "code",
   "execution_count": 9,
   "metadata": {},
   "outputs": [],
   "source": [
    "ipums['female'] = ipums.sex == 2\n",
    "ipums.drop(['sex'], axis=1, inplace=True)"
   ]
  },
  {
   "cell_type": "code",
   "execution_count": 10,
   "metadata": {},
   "outputs": [],
   "source": [
    "# Recode year to be calendar rather than survey year.\n",
    "ipums.year -= 1"
   ]
  },
  {
   "cell_type": "markdown",
   "metadata": {},
   "source": [
    "## Merge"
   ]
  },
  {
   "cell_type": "code",
   "execution_count": 11,
   "metadata": {},
   "outputs": [],
   "source": [
    "def merge_ipums_cpsp(ipums, cpsp):\n",
    "    \"\"\" Merges IPUMS ASEC with CPSP historical SPM poverty file, per CPSP\n",
    "        documentation.\n",
    "    \n",
    "    Args:\n",
    "        ipums: Raw IPUMS ASEC. Must include year, serial, lineno, female, age, \n",
    "            and pernum.\n",
    "        cpsp: Raw CPSP historical SPM poverty file, with female added from\n",
    "            sex and a_sex, and age set to a_age when age is null.\n",
    "        \n",
    "    Returns:\n",
    "        DataFrame with all relevant fields from ipums and cpsp.\n",
    "        \n",
    "    Note: This procedure is required even for household-level fields, as\n",
    "        CPSID (a household identifier) was introduced in the 1989 survey year.\n",
    "    \"\"\"\n",
    "    LINK_VARS_1975_1977 = ['year', 'serial', 'pernum', 'female', 'age']\n",
    "    LINK_VARS_OTHER_YEARS = ['year', 'serial', 'lineno', 'female', 'age']\n",
    "    # Create intermediate datasets to merge, dropping unused merge columns.\n",
    "    ipums_1975_1977 = ipums[ipums.year.isin([1975, 1976, 1977])].drop(\n",
    "        ['lineno'], axis=1)\n",
    "    cpsp_1975_1977 = cpsp[cpsp.year.isin([1975, 1976, 1977])].drop(\n",
    "        ['lineno'], axis=1)\n",
    "    ipums_other_years = ipums[~ipums.year.isin([1975, 1976, 1977])].drop(\n",
    "        ['pernum'], axis=1)\n",
    "    cpsp_other_years = cpsp[~cpsp.year.isin([1975, 1976, 1977])].drop(\n",
    "        ['pernum'], axis=1)\n",
    "    # Merge.\n",
    "    res_1975_1977 = ipums_1975_1977.merge(cpsp_1975_1977,\n",
    "                                          on=LINK_VARS_1975_1977)\n",
    "    res_other_years = ipums_other_years.merge(cpsp_other_years,\n",
    "                                              on=LINK_VARS_OTHER_YEARS)\n",
    "    # Return the concatenation of the two files after re-sorting on year.\n",
    "    return pd.concat([res_1975_1977, res_other_years]).sort_values('year')"
   ]
  },
  {
   "cell_type": "code",
   "execution_count": 12,
   "metadata": {},
   "outputs": [],
   "source": [
    "merged = merge_ipums_cpsp(ipums, spm)"
   ]
  },
  {
   "cell_type": "markdown",
   "metadata": {},
   "source": [
    "## Clean up and export\n",
    "\n",
    "Rename core columns."
   ]
  },
  {
   "cell_type": "code",
   "execution_count": 13,
   "metadata": {},
   "outputs": [],
   "source": [
    "merged.rename({'SPMu_Poor_Metadj_anch_cen': 'poor', 'marsupwt': 'w'}, axis=1,\n",
    "              inplace=True)"
   ]
  },
  {
   "cell_type": "markdown",
   "metadata": {},
   "source": [
    "Export without all the merging columns."
   ]
  },
  {
   "cell_type": "code",
   "execution_count": 14,
   "metadata": {},
   "outputs": [],
   "source": [
    "merged[['year', 'statefip', 'age', 'female', 'poor', 'w']].to_csv(\n",
    "    'spm_state.csv.gz', index=False)"
   ]
  }
 ],
 "metadata": {
  "kernelspec": {
   "display_name": "Python 3",
   "language": "python",
   "name": "python3"
  },
  "language_info": {
   "codemirror_mode": {
    "name": "ipython",
    "version": 3
   },
   "file_extension": ".py",
   "mimetype": "text/x-python",
   "name": "python",
   "nbconvert_exporter": "python",
   "pygments_lexer": "ipython3",
   "version": "3.7.7"
  }
 },
 "nbformat": 4,
 "nbformat_minor": 4
}
